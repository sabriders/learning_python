{
  "nbformat": 4,
  "nbformat_minor": 0,
  "metadata": {
    "colab": {
      "name": "Intro.ipynb",
      "provenance": [],
      "collapsed_sections": [],
      "authorship_tag": "ABX9TyO4FLXd8ul1Z4/i4ToTaEkd",
      "include_colab_link": true
    },
    "kernelspec": {
      "name": "python3",
      "display_name": "Python 3"
    }
  },
  "cells": [
    {
      "cell_type": "markdown",
      "metadata": {
        "id": "view-in-github",
        "colab_type": "text"
      },
      "source": [
        "<a href=\"https://colab.research.google.com/github/sabriders/learning_python/blob/main/learning.ipynb\" target=\"_parent\"><img src=\"https://colab.research.google.com/assets/colab-badge.svg\" alt=\"Open In Colab\"/></a>"
      ]
    },
    {
      "cell_type": "markdown",
      "metadata": {
        "id": "dHa3NKKmFa7n"
      },
      "source": [
        "Class in pyphon"
      ]
    },
    {
      "cell_type": "code",
      "metadata": {
        "colab": {
          "base_uri": "https://localhost:8080/"
        },
        "id": "V-9BMf7qHda4",
        "outputId": "6307fe28-cbd6-49c8-a0b8-c4ee4d5a067c"
      },
      "source": [
        "class Person:\r\n",
        "  def __init__(self,f_name, l_name, age, location):\r\n",
        "    self.f_name = f_name\r\n",
        "    self.l_name = l_name\r\n",
        "    self.age = age\r\n",
        "    self.location = location\r\n",
        "\r\n",
        "\r\n",
        "  @property\r\n",
        "  def get_f_name(self):\r\n",
        "    return self.f_name\r\n",
        "  \r\n",
        "  @property\r\n",
        "  def get_l_name(self):\r\n",
        "    return self.l_name\r\n",
        "  \r\n",
        "  @property\r\n",
        "  def get_age(self):\r\n",
        "    return self.age\r\n",
        "\r\n",
        "  @property\r\n",
        "  def get_location(self):\r\n",
        "    return self.location\r\n",
        "\r\n",
        "\r\n",
        "launch = Person(input(\"What's your first name? \"), input(\"What's your last name?\"), input(\"How old are you?\"), input(\"where are you from? \"))\r\n",
        "\r\n",
        "print(f\"My name is {launch.get_f_name} {launch.get_l_name}, I\\'m {launch.get_age} years old and I\\'m from {launch.get_location}.\")"
      ],
      "execution_count": null,
      "outputs": [
        {
          "output_type": "stream",
          "text": [
            "What's your first name? Sabeur\n",
            "What's your last name?Kaismoune\n",
            "How old are you?47\n",
            "where are you from? Fontaine\n",
            "My name is Sabeur Kaismoune, I'm 47 year old and I'm from Fontaine\n"
          ],
          "name": "stdout"
        }
      ]
    }
  ]
}
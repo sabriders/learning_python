{
  "nbformat": 4,
  "nbformat_minor": 0,
  "metadata": {
    "colab": {
      "name": "Intro.ipynb",
      "provenance": [],
      "collapsed_sections": [],
      "authorship_tag": "ABX9TyPbX5GvwePLmrtQ/ZUoK7Oa",
      "include_colab_link": true
    },
    "kernelspec": {
      "name": "python3",
      "display_name": "Python 3"
    }
  },
  "cells": [
    {
      "cell_type": "markdown",
      "metadata": {
        "id": "view-in-github",
        "colab_type": "text"
      },
      "source": [
        "<a href=\"https://colab.research.google.com/github/sabriders/learning_python/blob/main/Intro.ipynb\" target=\"_parent\"><img src=\"https://colab.research.google.com/assets/colab-badge.svg\" alt=\"Open In Colab\"/></a>"
      ]
    },
    {
      "cell_type": "markdown",
      "metadata": {
        "id": "iBWJr8nymwGL"
      },
      "source": [
        "\r\n",
        "\r\n",
        "```\r\n",
        "# how to say hello with a function\r\n",
        "```\r\n",
        "\r\n"
      ]
    },
    {
      "cell_type": "code",
      "metadata": {
        "colab": {
          "base_uri": "https://localhost:8080/"
        },
        "id": "1nvSgkbvI8oa",
        "outputId": "bca413bb-e8a0-4bca-c7df-81d1bc62ea39"
      },
      "source": [
        "def say_hello(name):\r\n",
        "  if name == \"anissa\":\r\n",
        "    name = \"bouletta\"\r\n",
        "    return name\r\n",
        "  else:\r\n",
        "    return name\r\n",
        "\r\n",
        "condition = True\r\n",
        "while condition:\r\n",
        "  name = say_hello(input(\"What's your name? \".lower()))\r\n",
        "  print(f\"Hello {name}\")\r\n",
        "  Keep_going = input(\"Would you like to continue? Type 'y' for 'yes' or 'n' for 'no': \").lower()\r\n",
        "  if Keep_going == 'n':\r\n",
        "    condition = False\r\n",
        "    print(f\"GoodBye {name}\")\r\n",
        "  \r\n"
      ],
      "execution_count": null,
      "outputs": [
        {
          "output_type": "stream",
          "text": [
            "what's your name? anissa\n",
            "Hello bouletta\n",
            "Would you like to continue? Type 'y' for 'yes' or 'n' for 'no': n\n",
            "GoodBye bouletta\n"
          ],
          "name": "stdout"
        }
      ]
    }
  ]
}
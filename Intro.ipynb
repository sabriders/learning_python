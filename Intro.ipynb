{
  "nbformat": 4,
  "nbformat_minor": 0,
  "metadata": {
    "colab": {
      "name": "Intro.ipynb",
      "provenance": [],
      "collapsed_sections": [],
      "authorship_tag": "ABX9TyMDbQm3MA5jVzU+2CbPjVoe",
      "include_colab_link": true
    },
    "kernelspec": {
      "name": "python3",
      "display_name": "Python 3"
    }
  },
  "cells": [
    {
      "cell_type": "markdown",
      "metadata": {
        "id": "view-in-github",
        "colab_type": "text"
      },
      "source": [
        "<a href=\"https://colab.research.google.com/github/sabriders/learning_python/blob/main/Intro.ipynb\" target=\"_parent\"><img src=\"https://colab.research.google.com/assets/colab-badge.svg\" alt=\"Open In Colab\"/></a>"
      ]
    },
    {
      "cell_type": "code",
      "metadata": {
        "colab": {
          "base_uri": "https://localhost:8080/"
        },
        "id": "1nvSgkbvI8oa",
        "outputId": "d45fc04f-9e68-4b3e-fe81-df1a6a0b3e9c"
      },
      "source": [
        "def say_hello(name):\r\n",
        "  print(f\"Hello {name}\")\r\n",
        "  \r\n",
        "\r\n",
        "say_hello(input(\"What's your name? \"))"
      ],
      "execution_count": 4,
      "outputs": [
        {
          "output_type": "stream",
          "text": [
            "What's your name? Sabeur\n",
            "Hello Sabeur\n"
          ],
          "name": "stdout"
        }
      ]
    }
  ]
}
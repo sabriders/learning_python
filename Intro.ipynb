{
  "nbformat": 4,
  "nbformat_minor": 0,
  "metadata": {
    "colab": {
      "name": "Intro.ipynb",
      "provenance": [],
      "collapsed_sections": [],
      "authorship_tag": "ABX9TyNxiTHmKKUExU1Yc2jRbNpN",
      "include_colab_link": true
    },
    "kernelspec": {
      "name": "python3",
      "display_name": "Python 3"
    }
  },
  "cells": [
    {
      "cell_type": "markdown",
      "metadata": {
        "id": "view-in-github",
        "colab_type": "text"
      },
      "source": [
        "<a href=\"https://colab.research.google.com/github/sabriders/learning_python/blob/main/Intro.ipynb\" target=\"_parent\"><img src=\"https://colab.research.google.com/assets/colab-badge.svg\" alt=\"Open In Colab\"/></a>"
      ]
    },
    {
      "cell_type": "markdown",
      "metadata": {
        "id": "iBWJr8nymwGL"
      },
      "source": [
        "\r\n",
        "\r\n",
        "```\r\n",
        "# how to say hello with a function\r\n",
        "```\r\n",
        "\r\n"
      ]
    },
    {
      "cell_type": "code",
      "metadata": {
        "colab": {
          "base_uri": "https://localhost:8080/"
        },
        "id": "1nvSgkbvI8oa",
        "outputId": "bca413bb-e8a0-4bca-c7df-81d1bc62ea39"
      },
      "source": [
        "def say_hello(name):\r\n",
        "  if name == \"anissa\":\r\n",
        "    name = \"bouletta\"\r\n",
        "    return name\r\n",
        "  else:\r\n",
        "    return name\r\n",
        "\r\n",
        "condition = True\r\n",
        "while condition:\r\n",
        "  name = say_hello(input(\"What's your name? \".lower()))\r\n",
        "  print(f\"Hello {name}\")\r\n",
        "  Keep_going = input(\"Would you like to continue? Type 'y' for 'yes' or 'n' for 'no': \").lower()\r\n",
        "  if Keep_going == 'n':\r\n",
        "    condition = False\r\n",
        "    print(f\"GoodBye {name}\")\r\n",
        "  \r\n"
      ],
      "execution_count": 3,
      "outputs": [
        {
          "output_type": "stream",
          "text": [
            "what's your name? anissa\n",
            "Hello bouletta\n",
            "Would you like to continue? Type 'y' for 'yes' or 'n' for 'no': n\n",
            "GoodBye bouletta\n"
          ],
          "name": "stdout"
        }
      ]
    },
    {
      "cell_type": "markdown",
      "metadata": {
        "id": "dHa3NKKmFa7n"
      },
      "source": [
        "Class in pyphon"
      ]
    },
    {
      "cell_type": "code",
      "metadata": {
        "colab": {
          "base_uri": "https://localhost:8080/"
        },
        "id": "V-9BMf7qHda4",
        "outputId": "6307fe28-cbd6-49c8-a0b8-c4ee4d5a067c"
      },
      "source": [
        "class Person:\r\n",
        "  def __init__(self,f_name, l_name, age, location):\r\n",
        "    self.f_name = f_name\r\n",
        "    self.l_name = l_name\r\n",
        "    self.age = age\r\n",
        "    self.location = location\r\n",
        "\r\n",
        "\r\n",
        "  @property\r\n",
        "  def get_f_name(self):\r\n",
        "    return self.f_name\r\n",
        "  \r\n",
        "  @property\r\n",
        "  def get_l_name(self):\r\n",
        "    return self.l_name\r\n",
        "  \r\n",
        "  @property\r\n",
        "  def get_age(self):\r\n",
        "    return self.age\r\n",
        "\r\n",
        "  @property\r\n",
        "  def get_location(self):\r\n",
        "    return self.location\r\n",
        "\r\n",
        "\r\n",
        "launch = Person(input(\"What's your first name? \"), input(\"What's your last name?\"), input(\"How old are you?\"), input(\"where are you from? \"))\r\n",
        "\r\n",
        "print(f\"My name is {launch.get_f_name} {launch.get_l_name}, I\\'m {launch.get_age} years old and I\\'m from {launch.get_location}.\")"
      ],
      "execution_count": 14,
      "outputs": [
        {
          "output_type": "stream",
          "text": [
            "What's your first name? Sabeur\n",
            "What's your last name?Kaismoune\n",
            "How old are you?47\n",
            "where are you from? Fontaine\n",
            "My name is Sabeur Kaismoune, I'm 47 year old and I'm from Fontaine\n"
          ],
          "name": "stdout"
        }
      ]
    },
    {
      "cell_type": "markdown",
      "metadata": {
        "id": "73a1LKWWN9B9"
      },
      "source": [
        "BLACKJACK"
      ]
    },
    {
      "cell_type": "code",
      "metadata": {
        "id": "oot4ac8XNiXp"
      },
      "source": [
        "import random\r\n",
        "\r\n",
        "def num_random():\r\n",
        "    cards = [11, 2, 3, 4, 5, 6, 7, 8, 9, 10, 10, 10, 10]\r\n",
        "    num_chose = random.choice(cards)\r\n",
        "    return num_chose\r\n",
        "\r\n",
        "def calc_sum(tab):\r\n",
        "    result = 0\r\n",
        "    for num in tab:\r\n",
        "        result += num\r\n",
        "    return result\r\n",
        "\r\n",
        "def compare_bid(sum_player, sum_dealer):\r\n",
        "    if sum_player > 21:\r\n",
        "        print(\"BUST! You Lose.\")\r\n",
        "    if sum_dealer > 21:\r\n",
        "        print(\"DEALER BUST! You Win!\")\r\n",
        "    elif sum_dealer > sum_player and sum_dealer <= 21:\r\n",
        "        print(\"You Lose!\")\r\n",
        "    elif sum_player > sum_dealer and sum_player <= 21:\r\n",
        "        print(\"You Win!\")\r\n",
        "    elif sum_player == sum_dealer:\r\n",
        "        print(\"DRAW! Nobody Win.\")\r\n",
        "\r\n",
        "def start_game():\r\n",
        "    Keep_going = True\r\n",
        "    dealer = [num_random(), num_random()]\r\n",
        "    player = [num_random(), num_random()]\r\n",
        "    sum_player = calc_sum(player)\r\n",
        "    sum_dealer = calc_sum(dealer)\r\n",
        "    while Keep_going:\r\n",
        "        print(f\"your cards are {player}\")\r\n",
        "        print(f\"the first dealer card is {dealer[0]}\")\r\n",
        "        chose_new_card = input(\"would you like an other card? Type 'y' for YES and 'n' for NO: \").lower()\r\n",
        "        if chose_new_card == 'n':\r\n",
        "            print(f\"your score is {sum_player}\")\r\n",
        "            print(f\"The dealer's score is {sum_dealer}\")\r\n",
        "            compare_bid(sum_player,sum_dealer)\r\n",
        "            Keep_going = False\r\n",
        "        else:\r\n",
        "            player.append(num_random())\r\n",
        "            sum_player = calc_sum(player)\r\n",
        "\r\n",
        "##############################\r\n",
        "### demarrage du programme ###\r\n",
        "##############################\r\n",
        "\r\n",
        "restart = True\r\n",
        "while restart:\r\n",
        "    start_game()\r\n",
        "    chose_restart = input(\"Do you want to play a game of BLACKJACK? Type 'y' or 'n': \")\r\n",
        "    if chose_restart == \"n\":\r\n",
        "        print(\"END GAME!!!\")\r\n",
        "        restart = False\r\n",
        "    else:\r\n",
        "      start_game()\r\n",
        "\r\n"
      ],
      "execution_count": null,
      "outputs": []
    }
  ]
}
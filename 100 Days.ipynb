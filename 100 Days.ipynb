{
  "nbformat": 4,
  "nbformat_minor": 0,
  "metadata": {
    "colab": {
      "name": "Intro.ipynb",
      "provenance": [],
      "collapsed_sections": [],
      "authorship_tag": "ABX9TyOf+/AxWZ508UXszHOKFJRO",
      "include_colab_link": true
    },
    "kernelspec": {
      "name": "python3",
      "display_name": "Python 3"
    }
  },
  "cells": [
    {
      "cell_type": "markdown",
      "metadata": {
        "id": "view-in-github",
        "colab_type": "text"
      },
      "source": [
        "<a href=\"https://colab.research.google.com/github/sabriders/learning_python/blob/main/100%20Days.ipynb\" target=\"_parent\"><img src=\"https://colab.research.google.com/assets/colab-badge.svg\" alt=\"Open In Colab\"/></a>"
      ]
    },
    {
      "cell_type": "markdown",
      "metadata": {
        "id": "iBWJr8nymwGL"
      },
      "source": [
        "\r\n",
        "\r\n",
        "```\r\n",
        "# how to say hello with a function\r\n",
        "```\r\n",
        "\r\n"
      ]
    },
    {
      "cell_type": "code",
      "metadata": {
        "colab": {
          "base_uri": "https://localhost:8080/"
        },
        "id": "1nvSgkbvI8oa",
        "outputId": "bca413bb-e8a0-4bca-c7df-81d1bc62ea39"
      },
      "source": [
        "def say_hello(name):\r\n",
        "  if name == \"anissa\":\r\n",
        "    name = \"bouletta\"\r\n",
        "    return name\r\n",
        "  else:\r\n",
        "    return name\r\n",
        "\r\n",
        "condition = True\r\n",
        "while condition:\r\n",
        "  name = say_hello(input(\"What's your name? \".lower()))\r\n",
        "  print(f\"Hello {name}\")\r\n",
        "  Keep_going = input(\"Would you like to continue? Type 'y' for 'yes' or 'n' for 'no': \").lower()\r\n",
        "  if Keep_going == 'n':\r\n",
        "    condition = False\r\n",
        "    print(f\"GoodBye {name}\")\r\n",
        "  \r\n"
      ],
      "execution_count": null,
      "outputs": [
        {
          "output_type": "stream",
          "text": [
            "what's your name? anissa\n",
            "Hello bouletta\n",
            "Would you like to continue? Type 'y' for 'yes' or 'n' for 'no': n\n",
            "GoodBye bouletta\n"
          ],
          "name": "stdout"
        }
      ]
    },
    {
      "cell_type": "markdown",
      "metadata": {
        "id": "dHa3NKKmFa7n"
      },
      "source": [
        "Class in pyphon"
      ]
    },
    {
      "cell_type": "code",
      "metadata": {
        "colab": {
          "base_uri": "https://localhost:8080/"
        },
        "id": "V-9BMf7qHda4",
        "outputId": "6307fe28-cbd6-49c8-a0b8-c4ee4d5a067c"
      },
      "source": [
        "class Person:\r\n",
        "  def __init__(self,f_name, l_name, age, location):\r\n",
        "    self.f_name = f_name\r\n",
        "    self.l_name = l_name\r\n",
        "    self.age = age\r\n",
        "    self.location = location\r\n",
        "\r\n",
        "\r\n",
        "  @property\r\n",
        "  def get_f_name(self):\r\n",
        "    return self.f_name\r\n",
        "  \r\n",
        "  @property\r\n",
        "  def get_l_name(self):\r\n",
        "    return self.l_name\r\n",
        "  \r\n",
        "  @property\r\n",
        "  def get_age(self):\r\n",
        "    return self.age\r\n",
        "\r\n",
        "  @property\r\n",
        "  def get_location(self):\r\n",
        "    return self.location\r\n",
        "\r\n",
        "\r\n",
        "launch = Person(input(\"What's your first name? \"), input(\"What's your last name?\"), input(\"How old are you?\"), input(\"where are you from? \"))\r\n",
        "\r\n",
        "print(f\"My name is {launch.get_f_name} {launch.get_l_name}, I\\'m {launch.get_age} years old and I\\'m from {launch.get_location}.\")"
      ],
      "execution_count": null,
      "outputs": [
        {
          "output_type": "stream",
          "text": [
            "What's your first name? Sabeur\n",
            "What's your last name?Kaismoune\n",
            "How old are you?47\n",
            "where are you from? Fontaine\n",
            "My name is Sabeur Kaismoune, I'm 47 year old and I'm from Fontaine\n"
          ],
          "name": "stdout"
        }
      ]
    },
    {
      "cell_type": "markdown",
      "metadata": {
        "id": "73a1LKWWN9B9"
      },
      "source": [
        "BLACKJACK"
      ]
    },
    {
      "cell_type": "code",
      "metadata": {
        "id": "oot4ac8XNiXp"
      },
      "source": [
        "\r\n",
        "import random\r\n",
        "#from replit import clear\r\n",
        "\"\"\"returns a random card from deck\"\"\"\r\n",
        "def num_random():\r\n",
        "    cards = [11, 2, 3, 4, 5, 6, 7, 8, 9, 10, 10, 10, 10]\r\n",
        "    card = random.choice(cards)\r\n",
        "    return card\r\n",
        "\r\n",
        "\"\"\"add all cards for each player and dealer\"\"\"\r\n",
        "def calc_sum(tab):\r\n",
        "    return sum(tab)\r\n",
        "\r\n",
        "\"\"\"Compare the hit in order to find who win or lose\"\"\"\r\n",
        "def compare_hit(sum_player, sum_dealer,len_player,len_dealer):\r\n",
        "    if sum_player > 21:\r\n",
        "        print(\"BUST! You Lose.\")\r\n",
        "    elif sum_dealer > 21:\r\n",
        "        print(\"DEALER BUST! You Win!\")\r\n",
        "    elif sum_dealer == 21 and len_dealer == 2:\r\n",
        "        print(\"Dealer went on over you with a BLACKJACK\")\r\n",
        "    elif sum_player == 21 and len_player == 2:\r\n",
        "        print(\"BLACKJACK, You Win! \")\r\n",
        "    elif sum_dealer > sum_player:\r\n",
        "        print(\"You Lose!\")\r\n",
        "    elif sum_player > sum_dealer:\r\n",
        "        print(\"You Win!\")\r\n",
        "    elif sum_player == sum_dealer:\r\n",
        "        print(\"DRAW! Nobody Win.\")\r\n",
        "\r\n",
        "\"\"\"Function for starting the game\"\"\"\r\n",
        "def start_game():\r\n",
        "    Keep_going = True\r\n",
        "    dealer = [num_random(), num_random()]\r\n",
        "    player = [num_random(), num_random()]\r\n",
        "    sum_player = calc_sum(player)\r\n",
        "    sum_dealer = calc_sum(dealer)\r\n",
        "    print(f\"your cards are {player}\")\r\n",
        "    print(f\"the first dealer's card is {dealer[0]}\")\r\n",
        "\r\n",
        "    while Keep_going:\r\n",
        "        chose_new_card = input(\"would you like an other card? Type 'y' for YES and 'n' for NO: \").lower()\r\n",
        "        if chose_new_card == 'n':\r\n",
        "            print(f\"your score is {sum_player}\")\r\n",
        "            print(f\"The dealer's score is {sum_dealer}\")\r\n",
        "            compare_hit(sum_player,sum_dealer,len(player),len(dealer))\r\n",
        "            Keep_going = False\r\n",
        "        elif chose_new_card == 'y':\r\n",
        "            player.append(num_random())\r\n",
        "            sum_player = calc_sum(player)\r\n",
        "            print(f\"your cards are {player}\")\r\n",
        "        if sum_dealer < 17:\r\n",
        "            dealer.append(num_random())\r\n",
        "            sum_dealer = calc_sum(dealer)\r\n",
        "\r\n",
        "##########################################\r\n",
        "### Main program  and restart the game ###\r\n",
        "##########################################\r\n",
        "\r\n",
        "restart = True\r\n",
        "while restart:\r\n",
        "    start_game()\r\n",
        "    chose_restart = input(\"Do you want to play a game of BLACKJACK? Type 'y' or 'n': \")\r\n",
        "    if chose_restart == \"n\":\r\n",
        "        print(\"END GAME!!!\")\r\n",
        "        restart = False\r\n",
        "    else:\r\n",
        "        start_game()\r\n",
        "\r\n",
        "#if 11 in cards and > 21 then remove the card and put 1 instead"
      ],
      "execution_count": null,
      "outputs": []
    },
    {
      "cell_type": "markdown",
      "metadata": {
        "id": "PRJWxGUvp6Tg"
      },
      "source": [
        "LOCAL AND GLOBAL SCOPE"
      ]
    },
    {
      "cell_type": "code",
      "metadata": {
        "id": "q0e1_2rwp-WJ"
      },
      "source": [
        "enemie = 1 #globale scope\r\n",
        "\r\n",
        "def increase_enemie():\r\n",
        "  enemie = 2 #local scope\r\n",
        "  print(f\"enemies INSIDE function1 is equal to: {enemie}\") # we can't change the global scope\r\n",
        "\r\n",
        "increase_enemie()\r\n",
        "print(f\"enemies OUTSIDE function1 is equal to: {enemie}\") \r\n",
        "\r\n",
        "#############################################################################################################\r\n",
        "def increase_enemie2():                           ######################################################################\r\n",
        "  global enemie #take and modify the globle scope BUT IT'S DANGEROUS TO USE THIS BECAUSE YOU CHANGE THE GLOBAL VARIABLE#\r\n",
        "  print(f\"\\nenemies INSIDE function2 WITH THE GLOBAL is equal to the GLOBAL VARIABLE : {enemie}\")\r\n",
        "  print(\"We can increase the global variable\")\r\n",
        "  enemie += 1\r\n",
        "  print(f\"enemies INSIDE function WITH THE GLOBAL variable increased is equal to : {enemie}\")\r\n",
        "\r\n",
        "increase_enemie2()\r\n",
        "##############################################################################################################\r\n",
        "\r\n",
        "#USE THIS BELOW INSTEAD\r\n",
        "enemie = 1 #global scope\r\n",
        "\r\n",
        "def increase_enemie3():\r\n",
        "  print(f\"\\nenemies INSIDE function3 is equal to: {enemie}\")\r\n",
        "  return enemie + 1 # increase the globale scope variable without change it.\r\n",
        "\r\n",
        "enemie = increase_enemie3()\r\n",
        "print(f\"enemies OUTSIDE function3 is equal to: {enemie}\")\r\n",
        "\r\n",
        "\r\n",
        "###############################################################################################################\r\n",
        "\r\n",
        "#GLOBAL CONSTANT\r\n",
        "PI = 3.14159 # write it in UPPER CASE\r\n",
        "\r\n",
        "def calc():\r\n",
        "  return PI\r\n",
        "\r\n",
        "\r\n"
      ],
      "execution_count": null,
      "outputs": []
    },
    {
      "cell_type": "markdown",
      "metadata": {
        "id": "Ac0wZVU56RKc"
      },
      "source": [
        "GAME GUESS A NUMBER"
      ]
    },
    {
      "cell_type": "code",
      "metadata": {
        "id": "6toIu0s76VxU",
        "colab": {
          "base_uri": "https://localhost:8080/"
        },
        "outputId": "f67046a7-9bc7-4ea5-e41f-2ffed25486e7"
      },
      "source": [
        "import random\r\n",
        "\r\n",
        "# GLOBAL VARIABLE\r\n",
        "EASY_ATTEMPTS = 10\r\n",
        "HARD_ATTEMPTS = 5\r\n",
        "\r\n",
        "def attempts_remaining(life):\r\n",
        "  print(f\"You have {life} attempts remaining to guess the number\")\r\n",
        "\r\n",
        "def levels(level):\r\n",
        "  if level == \"easy\":\r\n",
        "    return EASY_ATTEMPTS\r\n",
        "  else:\r\n",
        "    return HARD_ATTEMPTS\r\n",
        "  \r\n",
        "is_game_restart = True\r\n",
        "while is_game_restart:\r\n",
        "  # random a number from 1 to 100\r\n",
        "  num_rand = random.randint(1,100)\r\n",
        "  #print(num_rand)\r\n",
        "\r\n",
        "  # messages and choose difficulties\r\n",
        "  print(\"Welcome to the number guessing game!\")\r\n",
        "  print(\"I'm thinking of a number between 1 and 100: \")\r\n",
        "\r\n",
        "  # choose the game level \r\n",
        "  chose_difficulty = input(\"Choose a difficulty : 'easy' or 'hard'?: \").lower()\r\n",
        "  num_life = levels(chose_difficulty)\r\n",
        "\r\n",
        "  is_not_game_over = True\r\n",
        "  while is_not_game_over:\r\n",
        "    attempts_remaining(num_life) #remaining life\r\n",
        "    make_guess = int(input(\"Make a guess: \"))\r\n",
        "\r\n",
        "    #compare guess and number random\r\n",
        "    if make_guess > num_rand:\r\n",
        "      print(\"too high!\")\r\n",
        "      num_life -=1\r\n",
        "    elif make_guess < num_rand:\r\n",
        "      print(\"too low!\")\r\n",
        "      num_life -=1\r\n",
        "    elif make_guess == num_rand:\r\n",
        "      print(\"CONGRATULATIONS you win!\")\r\n",
        "      is_not_game_over = False\r\n",
        "\r\n",
        "    #Stop the game if life = 0\r\n",
        "    if num_life == 0:\r\n",
        "      print(f\"GAME OVER! You have {num_life} life\")\r\n",
        "      is_not_game_over = False\r\n",
        "    \r\n",
        "  #Restart another game\r\n",
        "  restart = input(\"would you restart a game? Type 'y' for YES or 'n' for NO: \").lower()\r\n",
        "  if restart == 'n':\r\n",
        "    is_game_restart = False"
      ],
      "execution_count": 11,
      "outputs": [
        {
          "output_type": "stream",
          "text": [
            "Welcome to the number guessing game!\n",
            "I'm thinking of a number between 1 and 100: \n",
            "Choose a difficulty : 'easy' or 'hard'?: easy\n",
            "You have 10 attempts remaining to guess the number\n",
            "Make a guess: 50\n",
            "too low!\n",
            "You have 9 attempts remaining to guess the number\n",
            "Make a guess: 75\n",
            "too high!\n",
            "You have 8 attempts remaining to guess the number\n",
            "Make a guess: 60\n",
            "too high!\n",
            "You have 7 attempts remaining to guess the number\n",
            "Make a guess: 55\n",
            "too low!\n",
            "You have 6 attempts remaining to guess the number\n",
            "Make a guess: 58\n",
            "too low!\n",
            "You have 5 attempts remaining to guess the number\n",
            "Make a guess: 59\n",
            "CONGRATULATIONS you win!\n",
            "would you restart a game? Type 'y' for YES or 'n' for NO: n\n"
          ],
          "name": "stdout"
        }
      ]
    }
  ]
}